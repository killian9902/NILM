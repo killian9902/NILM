{
 "cells": [
  {
   "cell_type": "code",
   "execution_count": 1,
   "id": "6597e432-afa7-4ae8-ae43-0c0f25cabc8c",
   "metadata": {},
   "outputs": [],
   "source": [
    "import torch\n",
    "import torch.nn as nn\n",
    "from torch.utils.data import Dataset, DataLoader\n",
    "import torch.optim as optim\n",
    "import torch.nn.functional as F\n",
    "\n",
    "import pandas as pd\n",
    "\n",
    "import random\n",
    "import numpy as np\n",
    "import matplotlib.pyplot as plt"
   ]
  },
  {
   "cell_type": "markdown",
   "id": "d4273efe-a0bf-4de5-9092-9b745c8a3302",
   "metadata": {},
   "source": [
    "## Data"
   ]
  },
  {
   "cell_type": "code",
   "execution_count": 2,
   "id": "bba93302-b8ce-4113-ac29-7bdfa5d3c881",
   "metadata": {},
   "outputs": [],
   "source": [
    "class Dataset(Dataset):\n",
    "    def __init__(self, features_file, label_file):\n",
    "        features = pd.read_csv(features_file)\n",
    "        labels = pd.read_csv(label_file)\n",
    "        \n",
    "        self.features = features\n",
    "        self.labels = labels\n",
    "\n",
    "    def __len__(self):\n",
    "        return len(self.features)\n",
    "    \n",
    "    def __getitem__(self, idx):\n",
    "        tensor_features = torch.tensor(self.features.iloc[idx].values, dtype=torch.float)\n",
    "        tensor_labels = torch.tensor(self.labels.iloc[idx].values, dtype=torch.float)\n",
    "\n",
    "        return tensor_features, tensor_labels"
   ]
  },
  {
   "cell_type": "code",
   "execution_count": 3,
   "id": "0f37718a-e3f0-4b0a-a9d8-8732bb7025bc",
   "metadata": {},
   "outputs": [],
   "source": [
    "dataset = Dataset('H1_AI_Dataset/H1_Features_24.csv', 'H1_AI_Dataset/H1_Labels_S_24.csv')\n",
    "dataloader = DataLoader(dataset, batch_size=64, shuffle=False)"
   ]
  },
  {
   "cell_type": "code",
   "execution_count": 4,
   "id": "ecde253e-64a8-450e-9f87-28f4b3aaf4cd",
   "metadata": {},
   "outputs": [],
   "source": [
    "train_size = int(0.8 * len(dataset))\n",
    "test_size = len(dataset) - train_size\n",
    "train_dataset, test_dataset = torch.utils.data.random_split(dataset, [train_size, test_size])"
   ]
  },
  {
   "cell_type": "code",
   "execution_count": 5,
   "id": "54d46697-0b29-4186-b825-a0e3f37dd2a5",
   "metadata": {},
   "outputs": [],
   "source": [
    "train_dataloader = DataLoader(train_dataset, batch_size=64, shuffle=False)\n",
    "test_dataloader = DataLoader(test_dataset, batch_size=64, shuffle=False)"
   ]
  },
  {
   "cell_type": "markdown",
   "id": "78b9cb80-2f7d-4edc-8ea0-689362ea28c5",
   "metadata": {},
   "source": [
    "## MLP\n",
    "* 1 hidden layer\n",
    "* ReLU activation\n",
    "* No initialisation\n",
    "* No Normalisation\n",
    "* No dropout"
   ]
  },
  {
   "cell_type": "code",
   "execution_count": 6,
   "id": "75f488f9-8f84-48fb-9383-cc5073542980",
   "metadata": {},
   "outputs": [],
   "source": [
    "class MLP(nn.Module):\n",
    "    def __init__(self, input_size=25, hidden_size=128, output_size=6):\n",
    "        super(MLP, self).__init__()\n",
    "        self.fc1 = nn.Linear(input_size, hidden_size)\n",
    "        self.ln1 = nn.LayerNorm(hidden_size)\n",
    "\n",
    "        self.fc2 = nn.Linear(hidden_size, hidden_size)\n",
    "        self.ln2 = nn.LayerNorm(hidden_size)\n",
    "        \n",
    "        self.fc3 = nn.Linear(hidden_size, output_size)\n",
    "\n",
    "    def forward(self, x):\n",
    "        x = self.fc1(x)\n",
    "        x = F.relu(self.ln1(x))\n",
    "        \n",
    "        x = self.fc2(x)\n",
    "        x = F.relu(self.ln2(x))\n",
    "        \n",
    "        x = self.fc3(x)  \n",
    "        return x"
   ]
  },
  {
   "cell_type": "code",
   "execution_count": 7,
   "id": "3dd8fe69-62a5-4a44-8d3b-2c47e41a0c62",
   "metadata": {},
   "outputs": [],
   "source": [
    "class RMSE(nn.Module):\n",
    "    def __init__(self, eps=1e-6):\n",
    "        super().__init__()\n",
    "        self.mse = nn.MSELoss()\n",
    "        self.eps = eps\n",
    "        \n",
    "    def forward(self,yhat,y):\n",
    "        loss = torch.sqrt(self.mse(yhat,y) + self.eps)\n",
    "        return loss"
   ]
  },
  {
   "cell_type": "code",
   "execution_count": 8,
   "id": "b32e5d9f-4d0d-41f4-afd8-68398b643533",
   "metadata": {},
   "outputs": [],
   "source": [
    "# Instantiate the model, optimizer, and loss function\n",
    "model = MLP()\n",
    "optimizer = optim.Adam(model.parameters(), lr=0.001)\n",
    "loss_function = RMSE()"
   ]
  },
  {
   "cell_type": "code",
   "execution_count": 9,
   "id": "c097db2a-49ad-428b-b775-59c89f80d2af",
   "metadata": {},
   "outputs": [
    {
     "data": {
      "text/plain": [
       "MLP(\n",
       "  (fc1): Linear(in_features=25, out_features=128, bias=True)\n",
       "  (ln1): LayerNorm((128,), eps=1e-05, elementwise_affine=True)\n",
       "  (fc2): Linear(in_features=128, out_features=128, bias=True)\n",
       "  (ln2): LayerNorm((128,), eps=1e-05, elementwise_affine=True)\n",
       "  (fc3): Linear(in_features=128, out_features=6, bias=True)\n",
       ")"
      ]
     },
     "execution_count": 9,
     "metadata": {},
     "output_type": "execute_result"
    }
   ],
   "source": [
    "# Device configuration\n",
    "device = torch.device('cuda' if torch.cuda.is_available() else 'cpu')\n",
    "model.to(device)"
   ]
  },
  {
   "cell_type": "markdown",
   "id": "4801606c-bd9a-44d2-ba3b-d6cbac515b08",
   "metadata": {},
   "source": [
    "## Training"
   ]
  },
  {
   "cell_type": "code",
   "execution_count": 10,
   "id": "787b9190-7288-4f40-8220-68a40bd4f831",
   "metadata": {},
   "outputs": [
    {
     "name": "stdout",
     "output_type": "stream",
     "text": [
      "Epoch [1/40], Training Loss: 47.4982\n",
      "Epoch [1/40], Test Loss: 53.7742\n",
      "Epoch [2/40], Training Loss: 44.5344\n",
      "Epoch [2/40], Test Loss: 52.2346\n",
      "Epoch [3/40], Training Loss: 43.2228\n",
      "Epoch [3/40], Test Loss: 51.0489\n",
      "Epoch [4/40], Training Loss: 42.2082\n",
      "Epoch [4/40], Test Loss: 50.2226\n",
      "Epoch [5/40], Training Loss: 41.5214\n",
      "Epoch [5/40], Test Loss: 49.7588\n",
      "Epoch [6/40], Training Loss: 41.0383\n",
      "Epoch [6/40], Test Loss: 49.6079\n",
      "Epoch [7/40], Training Loss: 40.6843\n",
      "Epoch [7/40], Test Loss: 49.4711\n",
      "Epoch [8/40], Training Loss: 40.4032\n",
      "Epoch [8/40], Test Loss: 49.3030\n",
      "Epoch [9/40], Training Loss: 40.1718\n",
      "Epoch [9/40], Test Loss: 49.2438\n",
      "Epoch [10/40], Training Loss: 39.9438\n",
      "Epoch [10/40], Test Loss: 49.2533\n",
      "Epoch [11/40], Training Loss: 39.7147\n",
      "Epoch [11/40], Test Loss: 49.3850\n",
      "Epoch [12/40], Training Loss: 39.5580\n",
      "Epoch [12/40], Test Loss: 49.2596\n",
      "Epoch [13/40], Training Loss: 39.3006\n",
      "Epoch [13/40], Test Loss: 49.2617\n",
      "Epoch [14/40], Training Loss: 39.1360\n",
      "Epoch [14/40], Test Loss: 49.1957\n",
      "Epoch [15/40], Training Loss: 38.9658\n",
      "Epoch [15/40], Test Loss: 48.8413\n",
      "Epoch [16/40], Training Loss: 38.8483\n",
      "Epoch [16/40], Test Loss: 49.0527\n",
      "Epoch [17/40], Training Loss: 38.7006\n",
      "Epoch [17/40], Test Loss: 48.9182\n",
      "Epoch [18/40], Training Loss: 38.5033\n",
      "Epoch [18/40], Test Loss: 48.7627\n",
      "Epoch [19/40], Training Loss: 38.4087\n",
      "Epoch [19/40], Test Loss: 48.9174\n",
      "Epoch [20/40], Training Loss: 38.2389\n",
      "Epoch [20/40], Test Loss: 48.7276\n",
      "Epoch [21/40], Training Loss: 38.1967\n",
      "Epoch [21/40], Test Loss: 48.7261\n",
      "Epoch [22/40], Training Loss: 38.1413\n",
      "Epoch [22/40], Test Loss: 48.7931\n",
      "Epoch [23/40], Training Loss: 37.9994\n",
      "Epoch [23/40], Test Loss: 48.7412\n",
      "Epoch [24/40], Training Loss: 37.9382\n",
      "Epoch [24/40], Test Loss: 48.5514\n",
      "Epoch [25/40], Training Loss: 37.8191\n",
      "Epoch [25/40], Test Loss: 48.5779\n",
      "Epoch [26/40], Training Loss: 37.8825\n",
      "Epoch [26/40], Test Loss: 48.8186\n",
      "Epoch [27/40], Training Loss: 37.7192\n",
      "Epoch [27/40], Test Loss: 48.5980\n",
      "Epoch [28/40], Training Loss: 37.5788\n",
      "Epoch [28/40], Test Loss: 49.3196\n",
      "Epoch [29/40], Training Loss: 37.6067\n",
      "Epoch [29/40], Test Loss: 48.7599\n",
      "Epoch [30/40], Training Loss: 37.4786\n",
      "Epoch [30/40], Test Loss: 48.6457\n",
      "Epoch [31/40], Training Loss: 37.4742\n",
      "Epoch [31/40], Test Loss: 48.9368\n",
      "Epoch [32/40], Training Loss: 37.3812\n",
      "Epoch [32/40], Test Loss: 49.4952\n",
      "Epoch [33/40], Training Loss: 37.3311\n",
      "Epoch [33/40], Test Loss: 49.1878\n",
      "Epoch [34/40], Training Loss: 37.2467\n",
      "Epoch [34/40], Test Loss: 48.8952\n",
      "Epoch [35/40], Training Loss: 37.2851\n",
      "Epoch [35/40], Test Loss: 49.2106\n",
      "Epoch [36/40], Training Loss: 37.2098\n",
      "Epoch [36/40], Test Loss: 49.2535\n",
      "Epoch [37/40], Training Loss: 37.1180\n",
      "Epoch [37/40], Test Loss: 48.7144\n",
      "Epoch [38/40], Training Loss: 37.0329\n",
      "Epoch [38/40], Test Loss: 49.0937\n",
      "Epoch [39/40], Training Loss: 36.9417\n",
      "Epoch [39/40], Test Loss: 49.3359\n",
      "Epoch [40/40], Training Loss: 37.0040\n",
      "Epoch [40/40], Test Loss: 49.1723\n"
     ]
    }
   ],
   "source": [
    "# Training loop\n",
    "\n",
    "train_losses = []\n",
    "test_losses = []\n",
    "\n",
    "\n",
    "num_epochs = 40\n",
    "for epoch in range(num_epochs):\n",
    "\n",
    "    \n",
    "    model.train()  # Set the model to training mode\n",
    "    total_loss = 0\n",
    "    for batch_idx, (data, targets) in enumerate(train_dataloader):\n",
    "        data, targets = data.to(device), targets.to(device)\n",
    "\n",
    "        # Forward pass\n",
    "        outputs = model(data)\n",
    "        loss = loss_function(outputs, targets)\n",
    "\n",
    "        # Backward and optimize\n",
    "        optimizer.zero_grad()\n",
    "        loss.backward()\n",
    "        \n",
    "        optimizer.step()\n",
    "\n",
    "        total_loss += loss.item()\n",
    "\n",
    "\n",
    "    train_loss = total_loss/len(train_dataloader)\n",
    "    train_losses.append(train_loss)\n",
    "    print(f'Epoch [{epoch+1}/{num_epochs}], Training Loss: {total_loss/len(train_dataloader):.4f}')\n",
    "\n",
    "    \n",
    "\n",
    "    # Evaluate the model on the test set\n",
    "    model.eval()  # Set the model to evaluation mode\n",
    "    total_test_loss = 0\n",
    "    with torch.no_grad():  # No need to track gradients for validation data\n",
    "        for batch_idx, (data, targets) in enumerate(test_dataloader):\n",
    "            data, targets = data.to(device), targets.to(device)\n",
    "            \n",
    "            # Forward pass\n",
    "            outputs = model(data)\n",
    "            loss = loss_function(outputs, targets)\n",
    "            \n",
    "            total_test_loss += loss.item()\n",
    "\n",
    "\n",
    "    test_loss = total_test_loss/len(test_dataloader)\n",
    "    test_losses.append(test_loss)\n",
    "    print(f'Epoch [{epoch+1}/{num_epochs}], Test Loss: {total_test_loss/len(test_dataloader):.4f}')"
   ]
  },
  {
   "cell_type": "markdown",
   "id": "e851361e-925f-4740-b9fd-d3e8e4df08a3",
   "metadata": {},
   "source": [
    "## Graph of learning rate"
   ]
  },
  {
   "cell_type": "code",
   "execution_count": 11,
   "id": "ef5e0c2b-e620-482e-8792-47a3a1eb0894",
   "metadata": {},
   "outputs": [
    {
     "data": {
      "image/png": "[encoded data removed]",
      "text/plain": [
       "<Figure size 640x480 with 1 Axes>"
      ]
     },
     "metadata": {},
     "output_type": "display_data"
    }
   ],
   "source": [
    "epochs = range(1, num_epochs + 1)\n",
    "plt.plot(epochs, train_losses, label='Training Loss')\n",
    "plt.plot(epochs, test_losses, label='Test Loss')\n",
    "plt.xlabel('Epochs')\n",
    "plt.ylabel('Loss')\n",
    "plt.title('Training and Test Loss over Epochs')\n",
    "plt.legend()\n",
    "plt.show()"
   ]
  },
  {
   "cell_type": "markdown",
   "id": "ecf9424d-ab46-435a-b260-bcd3c951f92e",
   "metadata": {},
   "source": [
    "# Thoughts\n",
    "* Training loss is decreasing and test loss hit a plateau\n",
    "* Simply a case of overfitting training data"
   ]
  }
 ],
 "metadata": {
  "kernelspec": {
   "display_name": "Python 3 (ipykernel)",
   "language": "python",
   "name": "python3"
  },
  "language_info": {
   "codemirror_mode": {
    "name": "ipython",
    "version": 3
   },
   "file_extension": ".py",
   "mimetype": "text/x-python",
   "name": "python",
   "nbconvert_exporter": "python",
   "pygments_lexer": "ipython3",
   "version": "3.10.11"
  }
 },
 "nbformat": 4,
 "nbformat_minor": 5
}
