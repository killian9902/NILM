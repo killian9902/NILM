{
 "cells": [
  {
   "cell_type": "code",
   "execution_count": 1,
   "id": "6597e432-afa7-4ae8-ae43-0c0f25cabc8c",
   "metadata": {},
   "outputs": [],
   "source": [
    "import torch\n",
    "import torch.nn as nn\n",
    "from torch.utils.data import Dataset, DataLoader\n",
    "import torch.optim as optim\n",
    "import torch.nn.functional as F\n",
    "\n",
    "import pandas as pd\n",
    "\n",
    "import random\n",
    "import numpy as np\n",
    "import matplotlib.pyplot as plt"
   ]
  },
  {
   "cell_type": "markdown",
   "id": "d4273efe-a0bf-4de5-9092-9b745c8a3302",
   "metadata": {},
   "source": [
    "## Data"
   ]
  },
  {
   "cell_type": "code",
   "execution_count": 3,
   "id": "bba93302-b8ce-4113-ac29-7bdfa5d3c881",
   "metadata": {},
   "outputs": [],
   "source": [
    "class Dataset(Dataset):\n",
    "    def __init__(self, features_file, label_file):\n",
    "        features = pd.read_csv(features_file)\n",
    "        labels = pd.read_csv(label_file)\n",
    "        \n",
    "        self.features = features\n",
    "        self.labels = labels\n",
    "\n",
    "    def __len__(self):\n",
    "        return len(self.features)\n",
    "    \n",
    "    def __getitem__(self, idx):\n",
    "        tensor_features = torch.tensor(self.features.iloc[idx].values, dtype=torch.float)\n",
    "        tensor_labels = torch.tensor(self.labels.iloc[idx].values, dtype=torch.float)\n",
    "\n",
    "        return tensor_features, tensor_labels"
   ]
  },
  {
   "cell_type": "code",
   "execution_count": 4,
   "id": "0f37718a-e3f0-4b0a-a9d8-8732bb7025bc",
   "metadata": {},
   "outputs": [],
   "source": [
    "dataset = Dataset('H1_AI_Dataset/H1_Features_Wh.csv', 'H1_AI_Dataset/H1_Labels_Wh.csv')\n",
    "dataloader = DataLoader(dataset, batch_size=64, shuffle=False)"
   ]
  },
  {
   "cell_type": "code",
   "execution_count": 5,
   "id": "ecde253e-64a8-450e-9f87-28f4b3aaf4cd",
   "metadata": {},
   "outputs": [],
   "source": [
    "train_size = int(0.8 * len(dataset))\n",
    "test_size = len(dataset) - train_size\n",
    "train_dataset, test_dataset = torch.utils.data.random_split(dataset, [train_size, test_size])"
   ]
  },
  {
   "cell_type": "code",
   "execution_count": 6,
   "id": "54d46697-0b29-4186-b825-a0e3f37dd2a5",
   "metadata": {},
   "outputs": [],
   "source": [
    "train_dataloader = DataLoader(train_dataset, batch_size=64, shuffle=False)\n",
    "test_dataloader = DataLoader(test_dataset, batch_size=64, shuffle=False)"
   ]
  },
  {
   "cell_type": "markdown",
   "id": "78b9cb80-2f7d-4edc-8ea0-689362ea28c5",
   "metadata": {},
   "source": [
    "## MLP"
   ]
  },
  {
   "cell_type": "code",
   "execution_count": 7,
   "id": "75f488f9-8f84-48fb-9383-cc5073542980",
   "metadata": {},
   "outputs": [],
   "source": [
    "class MLP(nn.Module):\n",
    "    def __init__(self, input_size=8, hidden_size=128, output_size=6):\n",
    "        super(MLP, self).__init__()\n",
    "        self.fc1 = nn.Linear(input_size, hidden_size)\n",
    "        self.ln1 = nn.LayerNorm(hidden_size)\n",
    "\n",
    "        self.fc2 = nn.Linear(hidden_size, hidden_size)\n",
    "        self.ln2 = nn.LayerNorm(hidden_size)\n",
    "        \n",
    "        self.fc3 = nn.Linear(hidden_size, output_size)\n",
    "\n",
    "    def forward(self, x):\n",
    "        x = self.fc1(x)\n",
    "        x = F.relu(self.ln1(x))\n",
    "        \n",
    "        x = self.fc2(x)\n",
    "        x = F.relu(self.ln2(x))\n",
    "        \n",
    "        x = self.fc3(x)  \n",
    "        return x"
   ]
  },
  {
   "cell_type": "code",
   "execution_count": 8,
   "id": "b32e5d9f-4d0d-41f4-afd8-68398b643533",
   "metadata": {},
   "outputs": [],
   "source": [
    "# Instantiate the model, optimizer, and loss function\n",
    "model = MLP()\n",
    "optimizer = optim.Adam(model.parameters(), lr=0.001)\n",
    "loss_function = nn.SmoothL1Loss()"
   ]
  },
  {
   "cell_type": "code",
   "execution_count": 9,
   "id": "c097db2a-49ad-428b-b775-59c89f80d2af",
   "metadata": {},
   "outputs": [
    {
     "data": {
      "text/plain": [
       "MLP(\n",
       "  (fc1): Linear(in_features=8, out_features=128, bias=True)\n",
       "  (ln1): LayerNorm((128,), eps=1e-05, elementwise_affine=True)\n",
       "  (fc2): Linear(in_features=128, out_features=128, bias=True)\n",
       "  (ln2): LayerNorm((128,), eps=1e-05, elementwise_affine=True)\n",
       "  (fc3): Linear(in_features=128, out_features=6, bias=True)\n",
       ")"
      ]
     },
     "execution_count": 9,
     "metadata": {},
     "output_type": "execute_result"
    }
   ],
   "source": [
    "# Device configuration\n",
    "device = torch.device('cuda' if torch.cuda.is_available() else 'cpu')\n",
    "model.to(device)"
   ]
  },
  {
   "cell_type": "code",
   "execution_count": 10,
   "id": "787b9190-7288-4f40-8220-68a40bd4f831",
   "metadata": {},
   "outputs": [
    {
     "name": "stdout",
     "output_type": "stream",
     "text": [
      "Epoch [1/40], Training Loss: 8.5747\n",
      "Epoch [1/40], Test Loss: 8.2307\n",
      "Epoch [2/40], Training Loss: 8.1999\n",
      "Epoch [2/40], Test Loss: 8.0082\n",
      "Epoch [3/40], Training Loss: 8.0056\n",
      "Epoch [3/40], Test Loss: 7.9148\n",
      "Epoch [4/40], Training Loss: 7.9088\n",
      "Epoch [4/40], Test Loss: 7.7890\n",
      "Epoch [5/40], Training Loss: 7.8028\n",
      "Epoch [5/40], Test Loss: 7.6120\n",
      "Epoch [6/40], Training Loss: 7.6731\n",
      "Epoch [6/40], Test Loss: 7.5697\n",
      "Epoch [7/40], Training Loss: 7.5875\n",
      "Epoch [7/40], Test Loss: 7.4850\n",
      "Epoch [8/40], Training Loss: 7.5241\n",
      "Epoch [8/40], Test Loss: 7.4015\n",
      "Epoch [9/40], Training Loss: 7.4662\n",
      "Epoch [9/40], Test Loss: 7.3465\n",
      "Epoch [10/40], Training Loss: 7.4144\n",
      "Epoch [10/40], Test Loss: 7.2651\n",
      "Epoch [11/40], Training Loss: 7.3618\n",
      "Epoch [11/40], Test Loss: 7.2541\n",
      "Epoch [12/40], Training Loss: 7.2959\n",
      "Epoch [12/40], Test Loss: 7.1627\n",
      "Epoch [13/40], Training Loss: 7.2307\n",
      "Epoch [13/40], Test Loss: 7.0615\n",
      "Epoch [14/40], Training Loss: 7.1666\n",
      "Epoch [14/40], Test Loss: 7.0518\n",
      "Epoch [15/40], Training Loss: 7.1057\n",
      "Epoch [15/40], Test Loss: 6.9413\n",
      "Epoch [16/40], Training Loss: 7.0493\n",
      "Epoch [16/40], Test Loss: 6.9044\n",
      "Epoch [17/40], Training Loss: 6.9947\n",
      "Epoch [17/40], Test Loss: 6.8498\n",
      "Epoch [18/40], Training Loss: 6.9456\n",
      "Epoch [18/40], Test Loss: 6.8059\n",
      "Epoch [19/40], Training Loss: 6.8971\n",
      "Epoch [19/40], Test Loss: 6.7336\n",
      "Epoch [20/40], Training Loss: 6.8520\n",
      "Epoch [20/40], Test Loss: 6.7904\n",
      "Epoch [21/40], Training Loss: 6.8136\n",
      "Epoch [21/40], Test Loss: 6.7735\n",
      "Epoch [22/40], Training Loss: 6.7774\n",
      "Epoch [22/40], Test Loss: 6.7144\n",
      "Epoch [23/40], Training Loss: 6.7443\n",
      "Epoch [23/40], Test Loss: 6.6331\n",
      "Epoch [24/40], Training Loss: 6.7202\n",
      "Epoch [24/40], Test Loss: 6.6051\n",
      "Epoch [25/40], Training Loss: 6.6951\n",
      "Epoch [25/40], Test Loss: 6.5915\n",
      "Epoch [26/40], Training Loss: 6.6669\n",
      "Epoch [26/40], Test Loss: 6.7255\n",
      "Epoch [27/40], Training Loss: 6.6418\n",
      "Epoch [27/40], Test Loss: 6.6326\n",
      "Epoch [28/40], Training Loss: 6.6254\n",
      "Epoch [28/40], Test Loss: 6.5384\n",
      "Epoch [29/40], Training Loss: 6.6030\n",
      "Epoch [29/40], Test Loss: 6.5260\n",
      "Epoch [30/40], Training Loss: 6.5809\n",
      "Epoch [30/40], Test Loss: 6.5696\n",
      "Epoch [31/40], Training Loss: 6.5794\n",
      "Epoch [31/40], Test Loss: 6.4887\n",
      "Epoch [32/40], Training Loss: 6.5510\n",
      "Epoch [32/40], Test Loss: 6.4702\n",
      "Epoch [33/40], Training Loss: 6.5351\n",
      "Epoch [33/40], Test Loss: 6.5380\n",
      "Epoch [34/40], Training Loss: 6.5195\n",
      "Epoch [34/40], Test Loss: 6.5402\n",
      "Epoch [35/40], Training Loss: 6.5061\n",
      "Epoch [35/40], Test Loss: 6.4869\n",
      "Epoch [36/40], Training Loss: 6.4882\n",
      "Epoch [36/40], Test Loss: 6.4258\n",
      "Epoch [37/40], Training Loss: 6.4903\n",
      "Epoch [37/40], Test Loss: 6.4841\n",
      "Epoch [38/40], Training Loss: 6.4846\n",
      "Epoch [38/40], Test Loss: 6.4629\n",
      "Epoch [39/40], Training Loss: 6.4655\n",
      "Epoch [39/40], Test Loss: 6.4610\n",
      "Epoch [40/40], Training Loss: 6.4582\n",
      "Epoch [40/40], Test Loss: 6.4228\n"
     ]
    }
   ],
   "source": [
    "# Training loop\n",
    "\n",
    "train_losses = []\n",
    "test_losses = []\n",
    "\n",
    "\n",
    "num_epochs = 40\n",
    "for epoch in range(num_epochs):\n",
    "\n",
    "    \n",
    "    model.train()  # Set the model to training mode\n",
    "    total_loss = 0\n",
    "    for batch_idx, (data, targets) in enumerate(train_dataloader):\n",
    "        data, targets = data.to(device), targets.to(device)\n",
    "\n",
    "        # Forward pass\n",
    "        outputs = model(data)\n",
    "        loss = loss_function(outputs, targets)\n",
    "\n",
    "        # Backward and optimize\n",
    "        optimizer.zero_grad()\n",
    "        loss.backward()\n",
    "        \n",
    "        optimizer.step()\n",
    "\n",
    "        total_loss += loss.item()\n",
    "\n",
    "\n",
    "    train_loss = total_loss/len(train_dataloader)\n",
    "    train_losses.append(train_loss)\n",
    "    print(f'Epoch [{epoch+1}/{num_epochs}], Training Loss: {total_loss/len(train_dataloader):.4f}')\n",
    "\n",
    "    \n",
    "\n",
    "    # Evaluate the model on the test set\n",
    "    model.eval()  # Set the model to evaluation mode\n",
    "    total_test_loss = 0\n",
    "    with torch.no_grad():  # No need to track gradients for validation data\n",
    "        for batch_idx, (data, targets) in enumerate(test_dataloader):\n",
    "            data, targets = data.to(device), targets.to(device)\n",
    "            \n",
    "            # Forward pass\n",
    "            outputs = model(data)\n",
    "            loss = loss_function(outputs, targets)\n",
    "            \n",
    "            total_test_loss += loss.item()\n",
    "\n",
    "\n",
    "    test_loss = total_test_loss/len(test_dataloader)\n",
    "    test_losses.append(test_loss)\n",
    "    print(f'Epoch [{epoch+1}/{num_epochs}], Test Loss: {total_test_loss/len(test_dataloader):.4f}')"
   ]
  },
  {
   "cell_type": "markdown",
   "id": "2e548fb0-a918-404d-a37c-baa82f132a91",
   "metadata": {},
   "source": [
    "## Below shows mean values for each column & total mean value in Labels\n",
    "* This is done to get an idea of the loss function\n",
    "* The loss is the average loss per sample/row"
   ]
  },
  {
   "cell_type": "code",
   "execution_count": 18,
   "id": "20e616ac-9e37-41fc-a4d7-2963977c9148",
   "metadata": {},
   "outputs": [
    {
     "name": "stdout",
     "output_type": "stream",
     "text": [
      "Column-wise mean values of labels: tensor([ 9.4287,  7.4341, 16.7252, 22.2961,  4.6413,  6.2078])\n",
      "Sample average total value: tensor(66.7331)\n",
      "Scalar total mean of labels: tensor(11.1222)\n"
     ]
    }
   ],
   "source": [
    "total_sum = torch.zeros(6)  # Assuming there are 6 columns in your labels\n",
    "total_count = 0\n",
    "\n",
    "for _, labels in dataloader:\n",
    "    total_sum += labels.sum(dim=0)  # Sum each column across the batch\n",
    "    total_count += labels.size(0)  # Count the number of samples (rows)\n",
    "\n",
    "column_means = total_sum / total_count\n",
    "print(\"Column-wise mean values of labels:\", column_means)\n",
    "\n",
    "sample_total_means = column_means.sum()\n",
    "print(\"Sample average total value:\", sample_total_means)\n",
    "\n",
    "total_mean = column_means.sum() / column_means.numel()\n",
    "print(\"Scalar total mean of labels:\", total_mean)"
   ]
  },
  {
   "cell_type": "markdown",
   "id": "e851361e-925f-4740-b9fd-d3e8e4df08a3",
   "metadata": {},
   "source": [
    "## Plotting graph of learning rate"
   ]
  },
  {
   "cell_type": "code",
   "execution_count": 11,
   "id": "ef5e0c2b-e620-482e-8792-47a3a1eb0894",
   "metadata": {},
   "outputs": [
    {
     "data": {
      "image/png": "[encoded data removed]",
      "text/plain": [
       "<Figure size 640x480 with 1 Axes>"
      ]
     },
     "metadata": {},
     "output_type": "display_data"
    }
   ],
   "source": [
    "epochs = range(1, num_epochs + 1)\n",
    "plt.plot(epochs, train_losses, label='Training Loss')\n",
    "plt.plot(epochs, test_losses, label='Test Loss')\n",
    "plt.xlabel('Epochs')\n",
    "plt.ylabel('Loss')\n",
    "plt.title('Training and Test Loss over Epochs')\n",
    "plt.legend()\n",
    "plt.show()"
   ]
  }
 ],
 "metadata": {
  "kernelspec": {
   "display_name": "Python 3 (ipykernel)",
   "language": "python",
   "name": "python3"
  },
  "language_info": {
   "codemirror_mode": {
    "name": "ipython",
    "version": 3
   },
   "file_extension": ".py",
   "mimetype": "text/x-python",
   "name": "python",
   "nbconvert_exporter": "python",
   "pygments_lexer": "ipython3",
   "version": "3.10.11"
  }
 },
 "nbformat": 4,
 "nbformat_minor": 5
}
