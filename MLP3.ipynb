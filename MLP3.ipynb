{
 "cells": [
  {
   "cell_type": "code",
   "execution_count": 1,
   "id": "44f87f91-49a6-42cd-a332-7ca4f60f21ef",
   "metadata": {},
   "outputs": [],
   "source": [
    "import torch\n",
    "import torch.nn as nn\n",
    "from torch.utils.data import Dataset, DataLoader\n",
    "import torch.optim as optim\n",
    "import torch.nn.functional as F\n",
    "\n",
    "import pandas as pd\n",
    "\n",
    "import random\n",
    "import numpy as np\n",
    "import matplotlib.pyplot as plt"
   ]
  },
  {
   "cell_type": "markdown",
   "id": "9fb3a5a7-c54b-46b4-a184-e6e3597f83ff",
   "metadata": {},
   "source": [
    "## Data"
   ]
  },
  {
   "cell_type": "code",
   "execution_count": 2,
   "id": "78d5f32b-f453-4162-9d84-1ae4cb7b799d",
   "metadata": {},
   "outputs": [],
   "source": [
    "class Dataset(Dataset):\n",
    "    def __init__(self, features_file, label_file):\n",
    "        features = pd.read_csv(features_file)\n",
    "        labels = pd.read_csv(label_file)\n",
    "        \n",
    "        self.features = features\n",
    "        self.labels = labels\n",
    "\n",
    "    def __len__(self):\n",
    "        return len(self.features)\n",
    "    \n",
    "    def __getitem__(self, idx):\n",
    "        tensor_features = torch.tensor(self.features.iloc[idx].values, dtype=torch.float)\n",
    "        tensor_labels = torch.tensor(self.labels.iloc[idx].values, dtype=torch.float)\n",
    "\n",
    "        return tensor_features, tensor_labels"
   ]
  },
  {
   "cell_type": "code",
   "execution_count": 3,
   "id": "c334028c-9e1e-457e-93e3-0c9db7c00948",
   "metadata": {},
   "outputs": [],
   "source": [
    "dataset = Dataset('H1_AI_Dataset/H1_Features_Wh_12h.csv', 'H1_AI_Dataset/H1_Labels_Wh_12h.csv')\n",
    "dataloader = DataLoader(dataset, batch_size=64, shuffle=False)"
   ]
  },
  {
   "cell_type": "code",
   "execution_count": 4,
   "id": "258968b2-f38b-479b-878f-b82e0be74c98",
   "metadata": {},
   "outputs": [],
   "source": [
    "train_size = int(0.8 * len(dataset))\n",
    "test_size = len(dataset) - train_size\n",
    "train_dataset, test_dataset = torch.utils.data.random_split(dataset, [train_size, test_size])"
   ]
  },
  {
   "cell_type": "code",
   "execution_count": 5,
   "id": "da452350-6377-4d6d-ae53-99763124ca10",
   "metadata": {},
   "outputs": [],
   "source": [
    "train_dataloader = DataLoader(train_dataset, batch_size=64, shuffle=False)\n",
    "test_dataloader = DataLoader(test_dataset, batch_size=64, shuffle=False)"
   ]
  },
  {
   "cell_type": "markdown",
   "id": "1f4e1ace-89a2-45a5-a73d-e501fa59999c",
   "metadata": {},
   "source": [
    "## MLP"
   ]
  },
  {
   "cell_type": "code",
   "execution_count": 53,
   "id": "0fdbdd7b-17e3-4c23-8c83-8f67f853cbc7",
   "metadata": {},
   "outputs": [],
   "source": [
    "class MLP(nn.Module):\n",
    "    def __init__(self, input_size=48, output_size=6, dropout_rate=0.1):\n",
    "        super(MLP, self).__init__()\n",
    "        self.fc1 = nn.Linear(input_size, 128)\n",
    "        self.ln1 = nn.LayerNorm(128)\n",
    "        self.dropout1 = nn.Dropout(dropout_rate)\n",
    "\n",
    "        \n",
    "        self.fc2 = nn.Linear(128, 64)\n",
    "        self.ln2 = nn.LayerNorm(64)\n",
    "        self.dropout2 = nn.Dropout(dropout_rate)\n",
    "\n",
    "        \n",
    "        self.fc4 = nn.Linear(64, output_size)\n",
    "\n",
    "        self.init_weights()\n",
    "\n",
    "    def forward(self, x):\n",
    "        x = self.fc1(x)\n",
    "        x = F.leaky_relu(self.ln1(x), negative_slope=0.05)\n",
    "        x = self.dropout1(x)\n",
    "\n",
    "        x = self.fc2(x)\n",
    "        x = F.leaky_relu(self.ln2(x), negative_slope=0.05)\n",
    "        x = self.dropout2(x)\n",
    "        \n",
    "        x = self.fc4(x)\n",
    "        return x\n",
    "\n",
    "    def init_weights(self):\n",
    "        for m in self.modules():\n",
    "            if isinstance(m, nn.Linear):\n",
    "                nn.init.kaiming_normal_(m.weight, nonlinearity='leaky_relu')\n",
    "                nn.init.constant_(m.bias, 0)"
   ]
  },
  {
   "cell_type": "code",
   "execution_count": 54,
   "id": "bcda3a04-872b-4ecc-9a99-1c6546ad6656",
   "metadata": {},
   "outputs": [],
   "source": [
    "# Instantiate the model, optimizer, and loss function\n",
    "model = MLP()\n",
    "optimizer = optim.Adam(model.parameters(), lr=0.005)\n",
    "loss_function = nn.SmoothL1Loss()"
   ]
  },
  {
   "cell_type": "code",
   "execution_count": 55,
   "id": "5c0c2a31-63e4-41f4-a9af-5cfad27b74df",
   "metadata": {},
   "outputs": [
    {
     "data": {
      "text/plain": [
       "MLP(\n",
       "  (fc1): Linear(in_features=48, out_features=128, bias=True)\n",
       "  (ln1): LayerNorm((128,), eps=1e-05, elementwise_affine=True)\n",
       "  (dropout1): Dropout(p=0.1, inplace=False)\n",
       "  (fc2): Linear(in_features=128, out_features=64, bias=True)\n",
       "  (ln2): LayerNorm((64,), eps=1e-05, elementwise_affine=True)\n",
       "  (dropout2): Dropout(p=0.1, inplace=False)\n",
       "  (fc4): Linear(in_features=64, out_features=6, bias=True)\n",
       ")"
      ]
     },
     "execution_count": 55,
     "metadata": {},
     "output_type": "execute_result"
    }
   ],
   "source": [
    "# Device configuration\n",
    "device = torch.device('cuda' if torch.cuda.is_available() else 'cpu')\n",
    "model.to(device)"
   ]
  },
  {
   "cell_type": "code",
   "execution_count": 56,
   "id": "bf3dd269-51f9-4a51-a9ac-cc0575754fd8",
   "metadata": {},
   "outputs": [
    {
     "name": "stdout",
     "output_type": "stream",
     "text": [
      "Epoch [1/40], Training Loss: 8.5934\n",
      "Epoch [1/40], Test Loss: 8.2595\n",
      "Epoch [2/40], Training Loss: 7.9834\n",
      "Epoch [2/40], Test Loss: 7.6990\n",
      "Epoch [3/40], Training Loss: 7.6120\n",
      "Epoch [3/40], Test Loss: 7.4283\n",
      "Epoch [4/40], Training Loss: 7.4227\n",
      "Epoch [4/40], Test Loss: 7.3232\n",
      "Epoch [5/40], Training Loss: 7.3651\n",
      "Epoch [5/40], Test Loss: 7.2188\n",
      "Epoch [6/40], Training Loss: 7.2875\n",
      "Epoch [6/40], Test Loss: 7.2195\n",
      "Epoch [7/40], Training Loss: 7.2428\n",
      "Epoch [7/40], Test Loss: 7.2002\n",
      "Epoch [8/40], Training Loss: 7.1908\n",
      "Epoch [8/40], Test Loss: 7.0872\n",
      "Epoch [9/40], Training Loss: 7.1485\n",
      "Epoch [9/40], Test Loss: 7.0605\n",
      "Epoch [10/40], Training Loss: 7.1196\n",
      "Epoch [10/40], Test Loss: 7.0606\n",
      "Epoch [11/40], Training Loss: 7.0959\n",
      "Epoch [11/40], Test Loss: 6.9960\n",
      "Epoch [12/40], Training Loss: 7.0467\n",
      "Epoch [12/40], Test Loss: 6.9748\n",
      "Epoch [13/40], Training Loss: 7.0176\n",
      "Epoch [13/40], Test Loss: 6.9785\n",
      "Epoch [14/40], Training Loss: 6.9852\n",
      "Epoch [14/40], Test Loss: 7.0081\n",
      "Epoch [15/40], Training Loss: 6.9923\n",
      "Epoch [15/40], Test Loss: 6.9184\n",
      "Epoch [16/40], Training Loss: 6.9352\n",
      "Epoch [16/40], Test Loss: 6.9647\n",
      "Epoch [17/40], Training Loss: 6.9201\n",
      "Epoch [17/40], Test Loss: 6.9059\n",
      "Epoch [18/40], Training Loss: 6.9110\n",
      "Epoch [18/40], Test Loss: 6.8955\n",
      "Epoch [19/40], Training Loss: 6.8826\n",
      "Epoch [19/40], Test Loss: 6.9199\n",
      "Epoch [20/40], Training Loss: 6.8828\n",
      "Epoch [20/40], Test Loss: 6.8687\n",
      "Epoch [21/40], Training Loss: 6.8550\n",
      "Epoch [21/40], Test Loss: 6.8961\n",
      "Epoch [22/40], Training Loss: 6.8352\n",
      "Epoch [22/40], Test Loss: 6.9316\n",
      "Epoch [23/40], Training Loss: 6.8364\n",
      "Epoch [23/40], Test Loss: 6.8606\n",
      "Epoch [24/40], Training Loss: 6.8106\n",
      "Epoch [24/40], Test Loss: 6.9106\n",
      "Epoch [25/40], Training Loss: 6.8094\n",
      "Epoch [25/40], Test Loss: 6.8550\n",
      "Epoch [26/40], Training Loss: 6.7757\n",
      "Epoch [26/40], Test Loss: 6.8441\n",
      "Epoch [27/40], Training Loss: 6.7737\n",
      "Epoch [27/40], Test Loss: 6.8707\n",
      "Epoch [28/40], Training Loss: 6.7728\n",
      "Epoch [28/40], Test Loss: 6.8027\n",
      "Epoch [29/40], Training Loss: 6.7453\n",
      "Epoch [29/40], Test Loss: 6.8990\n",
      "Epoch [30/40], Training Loss: 6.7245\n",
      "Epoch [30/40], Test Loss: 6.8131\n",
      "Epoch [31/40], Training Loss: 6.7185\n",
      "Epoch [31/40], Test Loss: 6.7989\n",
      "Epoch [32/40], Training Loss: 6.6962\n",
      "Epoch [32/40], Test Loss: 6.8213\n",
      "Epoch [33/40], Training Loss: 6.7014\n",
      "Epoch [33/40], Test Loss: 6.8345\n",
      "Epoch [34/40], Training Loss: 6.6798\n",
      "Epoch [34/40], Test Loss: 6.8836\n",
      "Epoch [35/40], Training Loss: 6.6680\n",
      "Epoch [35/40], Test Loss: 6.7350\n",
      "Epoch [36/40], Training Loss: 6.6610\n",
      "Epoch [36/40], Test Loss: 6.7575\n",
      "Epoch [37/40], Training Loss: 6.6343\n",
      "Epoch [37/40], Test Loss: 6.7465\n",
      "Epoch [38/40], Training Loss: 6.6242\n",
      "Epoch [38/40], Test Loss: 6.7679\n",
      "Epoch [39/40], Training Loss: 6.5995\n",
      "Epoch [39/40], Test Loss: 6.7397\n",
      "Epoch [40/40], Training Loss: 6.5862\n",
      "Epoch [40/40], Test Loss: 6.7056\n"
     ]
    }
   ],
   "source": [
    "# Training loop\n",
    "\n",
    "train_losses = []\n",
    "test_losses = []\n",
    "\n",
    "\n",
    "num_epochs = 40\n",
    "for epoch in range(num_epochs):\n",
    "\n",
    "    \n",
    "    model.train()  # Set the model to training mode\n",
    "    total_loss = 0\n",
    "    for batch_idx, (data, targets) in enumerate(train_dataloader):\n",
    "        data, targets = data.to(device), targets.to(device)\n",
    "\n",
    "        # Forward pass\n",
    "        outputs = model(data)\n",
    "        loss = loss_function(outputs, targets)\n",
    "\n",
    "        # Backward and optimize\n",
    "        optimizer.zero_grad()\n",
    "        loss.backward()\n",
    "        \n",
    "        optimizer.step()\n",
    "\n",
    "        total_loss += loss.item()\n",
    "\n",
    "\n",
    "    train_loss = total_loss/len(train_dataloader)\n",
    "    train_losses.append(train_loss)\n",
    "    print(f'Epoch [{epoch+1}/{num_epochs}], Training Loss: {total_loss/len(train_dataloader):.4f}')\n",
    "\n",
    "    \n",
    "\n",
    "    # Evaluate the model on the test set\n",
    "    model.eval()  # Set the model to evaluation mode\n",
    "    total_test_loss = 0\n",
    "    with torch.no_grad():  # No need to track gradients for validation data\n",
    "        for batch_idx, (data, targets) in enumerate(test_dataloader):\n",
    "            data, targets = data.to(device), targets.to(device)\n",
    "            \n",
    "            # Forward pass\n",
    "            outputs = model(data)\n",
    "            loss = loss_function(outputs, targets)\n",
    "            \n",
    "            total_test_loss += loss.item()\n",
    "\n",
    "\n",
    "    test_loss = total_test_loss/len(test_dataloader)\n",
    "    test_losses.append(test_loss)\n",
    "    print(f'Epoch [{epoch+1}/{num_epochs}], Test Loss: {total_test_loss/len(test_dataloader):.4f}')"
   ]
  },
  {
   "cell_type": "markdown",
   "id": "4046828e-0e1e-45f6-b966-47c40b405295",
   "metadata": {},
   "source": [
    "## Below shows mean values for each column & total mean value in Labels\n",
    "* This is done to get an idea of the loss function\n",
    "* The loss is the average loss per sample/row"
   ]
  },
  {
   "cell_type": "code",
   "execution_count": 40,
   "id": "53bef54b-b571-418b-969a-753eb06b745a",
   "metadata": {},
   "outputs": [
    {
     "name": "stdout",
     "output_type": "stream",
     "text": [
      "Column-wise mean values of labels: tensor([ 9.4314,  7.4385, 16.7290, 22.3034,  4.6413,  6.2054])\n",
      "Sample average total value: tensor(66.7489)\n",
      "Scalar total mean of labels: tensor(11.1248)\n"
     ]
    }
   ],
   "source": [
    "total_sum = torch.zeros(6)  # Assuming there are 6 columns in your labels\n",
    "total_count = 0\n",
    "\n",
    "for _, labels in dataloader:\n",
    "    total_sum += labels.sum(dim=0)  # Sum each column across the batch\n",
    "    total_count += labels.size(0)  # Count the number of samples (rows)\n",
    "\n",
    "column_means = total_sum / total_count\n",
    "print(\"Column-wise mean values of labels:\", column_means)\n",
    "\n",
    "sample_total_means = column_means.sum()\n",
    "print(\"Sample average total value:\", sample_total_means)\n",
    "\n",
    "total_mean = column_means.sum() / column_means.numel()\n",
    "print(\"Scalar total mean of labels:\", total_mean)"
   ]
  },
  {
   "cell_type": "markdown",
   "id": "6c53bbe3-c77f-40b9-bbcb-3ae246285d7f",
   "metadata": {},
   "source": [
    "## Plotting graph of learning rate"
   ]
  },
  {
   "cell_type": "code",
   "execution_count": 41,
   "id": "a6e533c7-dda8-4dd1-8298-a6f994a09509",
   "metadata": {},
   "outputs": [
    {
     "data": {
      "image/png": "[encoded data removed]",
      "text/plain": [
       "<Figure size 640x480 with 1 Axes>"
      ]
     },
     "metadata": {},
     "output_type": "display_data"
    }
   ],
   "source": [
    "epochs = range(1, num_epochs + 1)\n",
    "plt.plot(epochs, train_losses, label='Training Loss')\n",
    "plt.plot(epochs, test_losses, label='Test Loss')\n",
    "plt.xlabel('Epochs')\n",
    "plt.ylabel('Loss')\n",
    "plt.title('Training and Test Loss over Epochs')\n",
    "plt.legend()\n",
    "plt.show()"
   ]
  }
 ],
 "metadata": {
  "kernelspec": {
   "display_name": "Python 3 (ipykernel)",
   "language": "python",
   "name": "python3"
  },
  "language_info": {
   "codemirror_mode": {
    "name": "ipython",
    "version": 3
   },
   "file_extension": ".py",
   "mimetype": "text/x-python",
   "name": "python",
   "nbconvert_exporter": "python",
   "pygments_lexer": "ipython3",
   "version": "3.10.11"
  }
 },
 "nbformat": 4,
 "nbformat_minor": 5
}
