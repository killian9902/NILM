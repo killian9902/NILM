{
 "cells": [
  {
   "cell_type": "code",
   "execution_count": 1,
   "id": "483e9e1e-a2c0-4d1a-9564-28c5762779a9",
   "metadata": {},
   "outputs": [],
   "source": [
    "import torch\n",
    "import torch.nn as nn\n",
    "from torch.utils.data import Dataset, DataLoader\n",
    "import torch.optim as optim\n",
    "import torch.nn.functional as F\n",
    "\n",
    "import pandas as pd\n",
    "\n",
    "import random\n",
    "\n",
    "torch.set_printoptions(precision=3, threshold=10000, linewidth=140)"
   ]
  },
  {
   "cell_type": "markdown",
   "id": "eb4f5529-ba04-4840-b1d0-912bae4979cb",
   "metadata": {},
   "source": [
    "## Data"
   ]
  },
  {
   "cell_type": "code",
   "execution_count": 2,
   "id": "ed971555-ed0b-4602-9057-c454b184747c",
   "metadata": {},
   "outputs": [],
   "source": [
    "class Dataset(Dataset):\n",
    "    def __init__(self, features_file, label_file):\n",
    "        self.features = pd.read_csv(features_file)\n",
    "        self.labels = pd.read_csv(label_file)\n",
    "\n",
    "    def __len__(self):\n",
    "        return len(self.features)\n",
    "    \n",
    "    def __getitem__(self, idx):\n",
    "        tensor_features = torch.tensor(self.features.iloc[idx].values, dtype=torch.float)\n",
    "        tensor_labels = torch.tensor(self.labels.iloc[idx].values, dtype=torch.float)\n",
    "\n",
    "        return tensor_features, tensor_labels"
   ]
  },
  {
   "cell_type": "code",
   "execution_count": 3,
   "id": "292268ac-d0e0-4620-b5e0-60f597eed2f6",
   "metadata": {},
   "outputs": [],
   "source": [
    "dataset = Dataset('H1_AI_Dataset/H1_Features_24.csv', 'H1_AI_Dataset/H1_Labels_S_24.csv')"
   ]
  },
  {
   "cell_type": "code",
   "execution_count": 4,
   "id": "9355e1ac-48c9-40c9-bf09-0fa1ad291e54",
   "metadata": {},
   "outputs": [],
   "source": [
    "train_size = int(0.8 * len(dataset))\n",
    "test_size = len(dataset) - train_size\n",
    "train_dataset, test_dataset = torch.utils.data.random_split(dataset, [train_size, test_size])"
   ]
  },
  {
   "cell_type": "code",
   "execution_count": 5,
   "id": "def87605-7498-422e-8a6b-2398964bc866",
   "metadata": {},
   "outputs": [],
   "source": [
    "train_dataloader = DataLoader(train_dataset, batch_size=64, shuffle=False)\n",
    "test_dataloader = DataLoader(test_dataset, batch_size=64, shuffle=False)"
   ]
  },
  {
   "cell_type": "markdown",
   "id": "b02e4c2a-621a-4ae5-9342-673c43a007e6",
   "metadata": {},
   "source": [
    "## MLP"
   ]
  },
  {
   "cell_type": "code",
   "execution_count": 6,
   "id": "176de7c1-1579-4f81-baab-73f8d9ab4f06",
   "metadata": {},
   "outputs": [],
   "source": [
    "class MLP(nn.Module):\n",
    "    def __init__(self, input_size=25, hidden_size=128, output_size=6):\n",
    "        super(MLP, self).__init__()\n",
    "        self.fc1 = nn.Linear(input_size, hidden_size)\n",
    "        \n",
    "        self.fc2 = nn.Linear(hidden_size, hidden_size)\n",
    "        self.fc3 = nn.Linear(hidden_size, hidden_size)\n",
    "        self.fc4 = nn.Linear(hidden_size, hidden_size)\n",
    "        \n",
    "        self.fc5 = nn.Linear(hidden_size, output_size)\n",
    "\n",
    "    def forward(self, x):\n",
    "        x = F.relu(self.fc1(x))\n",
    "        x = F.dropout(x, p=0.2)\n",
    "        \n",
    "        x = F.relu(self.fc2(x))\n",
    "        x = F.dropout(x, p=0.2)\n",
    "        x = F.relu(self.fc3(x))\n",
    "        x = F.dropout(x, p=0.2)\n",
    "        x = F.relu(self.fc4(x))\n",
    "        x = F.dropout(x, p=0.2)\n",
    "        \n",
    "        x = self.fc5(x)  \n",
    "        return x"
   ]
  },
  {
   "cell_type": "code",
   "execution_count": 7,
   "id": "4d332ee8-3fa7-4a0e-bcc6-6d544d386129",
   "metadata": {},
   "outputs": [],
   "source": [
    "class RMSE(nn.Module):\n",
    "    def __init__(self, eps=1e-6):\n",
    "        super().__init__()\n",
    "        self.mse = nn.MSELoss()\n",
    "        self.eps = eps\n",
    "        \n",
    "    def forward(self,yhat,y):\n",
    "        loss = torch.sqrt(self.mse(yhat,y) + self.eps)\n",
    "        return loss"
   ]
  },
  {
   "cell_type": "code",
   "execution_count": 8,
   "id": "2bf84d83-60f5-4477-8270-1a6cf14a81d0",
   "metadata": {},
   "outputs": [],
   "source": [
    "# Instantiate the model, optimizer, and loss function\n",
    "model = MLP()\n",
    "optimizer = optim.Adam(model.parameters(), lr=0.01)\n",
    "loss_function = RMSE()"
   ]
  },
  {
   "cell_type": "code",
   "execution_count": 9,
   "id": "fd349cc2-6433-44ce-8ee2-bae23d534793",
   "metadata": {},
   "outputs": [
    {
     "data": {
      "text/plain": [
       "MLP(\n",
       "  (fc1): Linear(in_features=25, out_features=128, bias=True)\n",
       "  (fc2): Linear(in_features=128, out_features=128, bias=True)\n",
       "  (fc3): Linear(in_features=128, out_features=128, bias=True)\n",
       "  (fc4): Linear(in_features=128, out_features=128, bias=True)\n",
       "  (fc5): Linear(in_features=128, out_features=6, bias=True)\n",
       ")"
      ]
     },
     "execution_count": 9,
     "metadata": {},
     "output_type": "execute_result"
    }
   ],
   "source": [
    "# Device configuration\n",
    "device = torch.device('cuda' if torch.cuda.is_available() else 'cpu')\n",
    "model.to(device)"
   ]
  },
  {
   "cell_type": "code",
   "execution_count": 10,
   "id": "61fbe980-b9fa-415b-bc2a-d23e4c77bdfa",
   "metadata": {},
   "outputs": [
    {
     "name": "stdout",
     "output_type": "stream",
     "text": [
      "Epoch [1/4], Training Loss: 51.9286\n",
      "Epoch [1/4], Test Loss: 31.6714\n",
      "Epoch [2/4], Training Loss: 52.3493\n",
      "Epoch [2/4], Test Loss: 30.3493\n",
      "Epoch [3/4], Training Loss: 51.8530\n",
      "Epoch [3/4], Test Loss: 30.2715\n",
      "Epoch [4/4], Training Loss: 51.0935\n",
      "Target: [38.493057   1.2402778  0.5197222  6.557778   3.7933333  2.89     ]\n",
      "Output: [ 9.031456   7.713427   7.651391  11.565087   4.7313085  6.5739675]\n",
      "Target: [9.825      2.2616668  0.49944445 8.106112   3.8944445  3.0641668 ]\n",
      "Output: [ 8.539504   7.532134  10.418659  11.5612135  4.348647   6.338345 ]\n",
      "Target: [12.572778    0.75222224  0.5013889  22.981388    3.7572222   2.8633332 ]\n",
      "Output: [ 6.108394   7.2971187  3.242443  10.577803   4.3163157  5.7599688]\n",
      "Target: [11.889167    0.73694444  0.49916667  0.99916667  3.9269445   3.0072222 ]\n",
      "Output: [ 7.149041   7.2513857  4.128093  11.840281   4.4177322  6.2903295]\n",
      "Target: [ 0.25916666 15.881945   26.195833    1.0036111   5.641667    2.81      ]\n",
      "Output: [ 7.932976   7.797027   5.7269473 11.617718   4.3993726  6.320044 ]\n",
      "Target: [0.25444445 0.7475     0.5011111  1.0030556  3.7858334  3.1147223 ]\n",
      "Output: [ 5.83401    6.983203   2.5357094 10.825123   4.328784   5.6614156]\n",
      "Target: [0.25833333 0.7438889  0.49916667 0.74916667 3.7322223  3.0219445 ]\n",
      "Output: [ 5.8220367  6.867799   2.7866473 11.921091   4.3063636  5.625545 ]\n",
      "Target: [ 0.25194445  0.75277776  0.49944445  0.9986111   3.7325     14.625556  ]\n",
      "Output: [ 6.426295   6.9826174  4.4290085 10.732676   4.3541746  5.677071 ]\n",
      "Target: [2.0016668 1.2480556 0.5       1.7852777 3.688611  2.6533334]\n",
      "Output: [ 6.3020773  7.0991254  3.021277  11.182074   4.469652   5.849885 ]\n",
      "Target: [ 4.7622223   0.74833333  0.50027776 16.705833    5.7425      2.6       ]\n",
      "Output: [ 5.671257   6.6604705  2.6337123 11.52361    4.316514   5.547503 ]\n",
      "Target: [ 0.25138888  0.75027776  0.49944445 11.256111    3.8802779   3.0233333 ]\n",
      "Output: [6.657757 7.428316 4.115434 9.68855  4.310004 5.861683]\n",
      "Target: [0.25055555 0.7475     0.50027776 3.948611   3.9308333  0.        ]\n",
      "Output: [ 6.3720922  6.923897   3.6915221 11.185268   4.550662   5.97084  ]\n",
      "Target: [14.58      43.893333  27.545834  13.008889   7.6008334  2.1666667]\n",
      "Output: [11.648165   7.841706  19.83924   24.349184   3.8488503  6.9425554]\n",
      "Target: [ 0.49888888  0.7488889   0.75083333 24.080555    3.763611    2.9683332 ]\n",
      "Output: [ 8.010534   7.021145   9.509532  12.89407    4.4719987  6.108171 ]\n",
      "Target: [ 9.809167    1.2483333   0.49833333 19.61139     3.723611   15.529166  ]\n",
      "Output: [10.295884  8.73206  12.351049 15.130908  4.677547  7.14217 ]\n",
      "Target: [ 1.9880556   1.2302778   0.49916667 32.345833    4.6055555   5.803056  ]\n",
      "Output: [ 6.083539   6.9054723  3.5326824 11.834901   4.267747   5.638379 ]\n",
      "Epoch [4/4], Test Loss: 29.7870\n"
     ]
    }
   ],
   "source": [
    "# Training loop\n",
    "num_epochs = 4\n",
    "for epoch in range(num_epochs):\n",
    "\n",
    "    \n",
    "    model.train()  # Set the model to training mode\n",
    "    total_loss = 0\n",
    "    for batch_idx, (data, targets) in enumerate(train_dataloader):\n",
    "        data, targets = data.to(device), targets.to(device)\n",
    "\n",
    "        # Forward pass\n",
    "        outputs = model(data)\n",
    "        loss = loss_function(outputs, targets)\n",
    "\n",
    "        # Backward and optimize\n",
    "        optimizer.zero_grad()\n",
    "        loss.backward()\n",
    "        optimizer.step()\n",
    "\n",
    "        total_loss += loss.item()\n",
    "\n",
    "    print(f'Epoch [{epoch+1}/{num_epochs}], Training Loss: {total_loss/len(train_dataloader):.4f}')\n",
    "\n",
    "    \n",
    "\n",
    "    # Evaluate the model on the test set\n",
    "    model.eval()  # Set the model to evaluation mode\n",
    "    total_test_loss = 0\n",
    "    with torch.no_grad():  # No need to track gradients for validation data\n",
    "        for batch_idx, (data, targets) in enumerate(test_dataloader):\n",
    "            data, targets = data.to(device), targets.to(device)\n",
    "\n",
    "            # Forward pass\n",
    "            outputs = model(data)\n",
    "            loss = loss_function(outputs, targets)\n",
    "            total_test_loss += loss.item()\n",
    "\n",
    "            \n",
    "            # Randomly print data and targets based on percentage - on last epoch\n",
    "            if (epoch == num_epochs-1) and (random.random() < 0.1):\n",
    "                \n",
    "                item_idx = random.randint(0, data.size(0) - 1)\n",
    "\n",
    "                item_target = targets[item_idx]\n",
    "                item_output = outputs[item_idx]\n",
    "                \n",
    "                print(f\"Target: {item_target.cpu().numpy()}\")\n",
    "                print(f\"Output: {item_output.cpu().numpy()}\")\n",
    "\n",
    "    print(f'Epoch [{epoch+1}/{num_epochs}], Test Loss: {total_test_loss/len(test_dataloader):.4f}')"
   ]
  }
 ],
 "metadata": {
  "kernelspec": {
   "display_name": "Python 3 (ipykernel)",
   "language": "python",
   "name": "python3"
  },
  "language_info": {
   "codemirror_mode": {
    "name": "ipython",
    "version": 3
   },
   "file_extension": ".py",
   "mimetype": "text/x-python",
   "name": "python",
   "nbconvert_exporter": "python",
   "pygments_lexer": "ipython3",
   "version": "3.10.11"
  }
 },
 "nbformat": 4,
 "nbformat_minor": 5
}
