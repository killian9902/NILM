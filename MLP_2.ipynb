{
 "cells": [
  {
   "cell_type": "code",
   "execution_count": 1,
   "id": "44f87f91-49a6-42cd-a332-7ca4f60f21ef",
   "metadata": {},
   "outputs": [],
   "source": [
    "import torch\n",
    "import torch.nn as nn\n",
    "from torch.utils.data import Dataset, DataLoader\n",
    "import torch.optim as optim\n",
    "import torch.nn.functional as F\n",
    "\n",
    "import pandas as pd\n",
    "\n",
    "import random\n",
    "import numpy as np\n",
    "import matplotlib.pyplot as plt"
   ]
  },
  {
   "cell_type": "markdown",
   "id": "9fb3a5a7-c54b-46b4-a184-e6e3597f83ff",
   "metadata": {},
   "source": [
    "## Data"
   ]
  },
  {
   "cell_type": "code",
   "execution_count": 2,
   "id": "78d5f32b-f453-4162-9d84-1ae4cb7b799d",
   "metadata": {},
   "outputs": [],
   "source": [
    "class Dataset(Dataset):\n",
    "    def __init__(self, features_file, label_file):\n",
    "        features = pd.read_csv(features_file)\n",
    "        labels = pd.read_csv(label_file)\n",
    "        \n",
    "        self.features = features\n",
    "        self.labels = labels\n",
    "\n",
    "    def __len__(self):\n",
    "        return len(self.features)\n",
    "    \n",
    "    def __getitem__(self, idx):\n",
    "        tensor_features = torch.tensor(self.features.iloc[idx].values, dtype=torch.float)\n",
    "        tensor_labels = torch.tensor(self.labels.iloc[idx].values, dtype=torch.float)\n",
    "\n",
    "        return tensor_features, tensor_labels"
   ]
  },
  {
   "cell_type": "code",
   "execution_count": 3,
   "id": "c334028c-9e1e-457e-93e3-0c9db7c00948",
   "metadata": {},
   "outputs": [],
   "source": [
    "dataset = Dataset('H1_AI_Dataset/H1_Features_24.csv', 'H1_AI_Dataset/H1_Labels_S_24.csv')\n",
    "dataloader = DataLoader(dataset, batch_size=64, shuffle=False)"
   ]
  },
  {
   "cell_type": "code",
   "execution_count": 4,
   "id": "258968b2-f38b-479b-878f-b82e0be74c98",
   "metadata": {},
   "outputs": [],
   "source": [
    "train_size = int(0.8 * len(dataset))\n",
    "test_size = len(dataset) - train_size\n",
    "train_dataset, test_dataset = torch.utils.data.random_split(dataset, [train_size, test_size])"
   ]
  },
  {
   "cell_type": "code",
   "execution_count": 5,
   "id": "da452350-6377-4d6d-ae53-99763124ca10",
   "metadata": {},
   "outputs": [],
   "source": [
    "train_dataloader = DataLoader(train_dataset, batch_size=64, shuffle=False)\n",
    "test_dataloader = DataLoader(test_dataset, batch_size=64, shuffle=False)"
   ]
  },
  {
   "cell_type": "markdown",
   "id": "1f4e1ace-89a2-45a5-a73d-e501fa59999c",
   "metadata": {},
   "source": [
    "## MLP\n",
    "* 1 hidden layer\n",
    "* LakyReLU activation (0.05 negative slope)\n",
    "* He initialisation\n",
    "* Layer normalisaiton\n",
    "* Dopout = 0.1"
   ]
  },
  {
   "cell_type": "code",
   "execution_count": 6,
   "id": "0fdbdd7b-17e3-4c23-8c83-8f67f853cbc7",
   "metadata": {},
   "outputs": [],
   "source": [
    "class MLP(nn.Module):\n",
    "    def __init__(self, input_size=25, output_size=6, dropout_rate=0.1):\n",
    "        super(MLP, self).__init__()\n",
    "        self.fc1 = nn.Linear(input_size, 128)\n",
    "        self.ln1 = nn.LayerNorm(128)\n",
    "        self.dropout1 = nn.Dropout(dropout_rate)\n",
    "\n",
    "        \n",
    "        self.fc2 = nn.Linear(128, 64)\n",
    "        self.ln2 = nn.LayerNorm(64)\n",
    "        self.dropout2 = nn.Dropout(dropout_rate)\n",
    "\n",
    "        \n",
    "        self.fc3 = nn.Linear(64, output_size)\n",
    "\n",
    "        self.init_weights()\n",
    "\n",
    "    \n",
    "\n",
    "    def init_weights(self):\n",
    "        for m in self.modules():\n",
    "            if isinstance(m, nn.Linear):\n",
    "                nn.init.kaiming_normal_(m.weight, nonlinearity='leaky_relu')\n",
    "                nn.init.constant_(m.bias, 0)\n",
    "\n",
    "\n",
    "    \n",
    "    def forward(self, x):\n",
    "        x = self.fc1(x)\n",
    "        x = F.leaky_relu(self.ln1(x), negative_slope=0.05)\n",
    "        x = self.dropout1(x)\n",
    "\n",
    "        x = self.fc2(x)\n",
    "        x = F.leaky_relu(self.ln2(x), negative_slope=0.05)\n",
    "        x = self.dropout2(x)\n",
    "        \n",
    "        x = self.fc3(x)\n",
    "        return x\n",
    "\n",
    "    \n",
    "    "
   ]
  },
  {
   "cell_type": "code",
   "execution_count": 7,
   "id": "115dd22a-b8c9-4da2-af60-887e6a08f8bf",
   "metadata": {},
   "outputs": [],
   "source": [
    "class RMSE(nn.Module):\n",
    "    def __init__(self, eps=1e-6):\n",
    "        super().__init__()\n",
    "        self.mse = nn.MSELoss()\n",
    "        self.eps = eps\n",
    "        \n",
    "    def forward(self,yhat,y):\n",
    "        loss = torch.sqrt(self.mse(yhat,y) + self.eps)\n",
    "        return loss"
   ]
  },
  {
   "cell_type": "code",
   "execution_count": 8,
   "id": "bcda3a04-872b-4ecc-9a99-1c6546ad6656",
   "metadata": {},
   "outputs": [],
   "source": [
    "# Instantiate the model, optimizer, and loss function\n",
    "model = MLP()\n",
    "optimizer = optim.Adam(model.parameters(), lr=0.005)\n",
    "loss_function = RMSE()"
   ]
  },
  {
   "cell_type": "code",
   "execution_count": 9,
   "id": "5c0c2a31-63e4-41f4-a9af-5cfad27b74df",
   "metadata": {},
   "outputs": [
    {
     "data": {
      "text/plain": [
       "MLP(\n",
       "  (fc1): Linear(in_features=25, out_features=128, bias=True)\n",
       "  (ln1): LayerNorm((128,), eps=1e-05, elementwise_affine=True)\n",
       "  (dropout1): Dropout(p=0.1, inplace=False)\n",
       "  (fc2): Linear(in_features=128, out_features=64, bias=True)\n",
       "  (ln2): LayerNorm((64,), eps=1e-05, elementwise_affine=True)\n",
       "  (dropout2): Dropout(p=0.1, inplace=False)\n",
       "  (fc3): Linear(in_features=64, out_features=6, bias=True)\n",
       ")"
      ]
     },
     "execution_count": 9,
     "metadata": {},
     "output_type": "execute_result"
    }
   ],
   "source": [
    "# Device configuration\n",
    "device = torch.device('cuda' if torch.cuda.is_available() else 'cpu')\n",
    "model.to(device)"
   ]
  },
  {
   "cell_type": "markdown",
   "id": "35dd71dd-008e-48f2-9eeb-0669e8e4d177",
   "metadata": {},
   "source": [
    "## Training"
   ]
  },
  {
   "cell_type": "code",
   "execution_count": 10,
   "id": "bf3dd269-51f9-4a51-a9ac-cc0575754fd8",
   "metadata": {},
   "outputs": [
    {
     "name": "stdout",
     "output_type": "stream",
     "text": [
      "Epoch [1/40], Training Loss: 47.6565\n",
      "Epoch [1/40], Test Loss: 44.8937\n",
      "Epoch [2/40], Training Loss: 45.3068\n",
      "Epoch [2/40], Test Loss: 43.9778\n",
      "Epoch [3/40], Training Loss: 44.4270\n",
      "Epoch [3/40], Test Loss: 43.7514\n",
      "Epoch [4/40], Training Loss: 43.9405\n",
      "Epoch [4/40], Test Loss: 43.4927\n",
      "Epoch [5/40], Training Loss: 43.6987\n",
      "Epoch [5/40], Test Loss: 43.2631\n",
      "Epoch [6/40], Training Loss: 43.4597\n",
      "Epoch [6/40], Test Loss: 43.2691\n",
      "Epoch [7/40], Training Loss: 43.3973\n",
      "Epoch [7/40], Test Loss: 43.0497\n",
      "Epoch [8/40], Training Loss: 43.1506\n",
      "Epoch [8/40], Test Loss: 43.0063\n",
      "Epoch [9/40], Training Loss: 43.1404\n",
      "Epoch [9/40], Test Loss: 42.8869\n",
      "Epoch [10/40], Training Loss: 42.8877\n",
      "Epoch [10/40], Test Loss: 42.8007\n",
      "Epoch [11/40], Training Loss: 42.8520\n",
      "Epoch [11/40], Test Loss: 42.6383\n",
      "Epoch [12/40], Training Loss: 42.7211\n",
      "Epoch [12/40], Test Loss: 42.6483\n",
      "Epoch [13/40], Training Loss: 42.5861\n",
      "Epoch [13/40], Test Loss: 42.5650\n",
      "Epoch [14/40], Training Loss: 42.4021\n",
      "Epoch [14/40], Test Loss: 42.3675\n",
      "Epoch [15/40], Training Loss: 42.3862\n",
      "Epoch [15/40], Test Loss: 42.1263\n",
      "Epoch [16/40], Training Loss: 42.3298\n",
      "Epoch [16/40], Test Loss: 42.4485\n",
      "Epoch [17/40], Training Loss: 42.1206\n",
      "Epoch [17/40], Test Loss: 42.3488\n",
      "Epoch [18/40], Training Loss: 41.8689\n",
      "Epoch [18/40], Test Loss: 41.9420\n",
      "Epoch [19/40], Training Loss: 41.7466\n",
      "Epoch [19/40], Test Loss: 41.9052\n",
      "Epoch [20/40], Training Loss: 41.8140\n",
      "Epoch [20/40], Test Loss: 41.7781\n",
      "Epoch [21/40], Training Loss: 41.6247\n",
      "Epoch [21/40], Test Loss: 42.2623\n",
      "Epoch [22/40], Training Loss: 41.6641\n",
      "Epoch [22/40], Test Loss: 41.9345\n",
      "Epoch [23/40], Training Loss: 41.4608\n",
      "Epoch [23/40], Test Loss: 41.8474\n",
      "Epoch [24/40], Training Loss: 41.4861\n",
      "Epoch [24/40], Test Loss: 41.7193\n",
      "Epoch [25/40], Training Loss: 41.5051\n",
      "Epoch [25/40], Test Loss: 41.9720\n",
      "Epoch [26/40], Training Loss: 41.4796\n",
      "Epoch [26/40], Test Loss: 42.1261\n",
      "Epoch [27/40], Training Loss: 41.4112\n",
      "Epoch [27/40], Test Loss: 42.1710\n",
      "Epoch [28/40], Training Loss: 41.1483\n",
      "Epoch [28/40], Test Loss: 41.4306\n",
      "Epoch [29/40], Training Loss: 41.2632\n",
      "Epoch [29/40], Test Loss: 41.6524\n",
      "Epoch [30/40], Training Loss: 41.1927\n",
      "Epoch [30/40], Test Loss: 41.7712\n",
      "Epoch [31/40], Training Loss: 41.0547\n",
      "Epoch [31/40], Test Loss: 42.1145\n",
      "Epoch [32/40], Training Loss: 41.2991\n",
      "Epoch [32/40], Test Loss: 41.7439\n",
      "Epoch [33/40], Training Loss: 41.0770\n",
      "Epoch [33/40], Test Loss: 41.3524\n",
      "Epoch [34/40], Training Loss: 40.9110\n",
      "Epoch [34/40], Test Loss: 41.7595\n",
      "Epoch [35/40], Training Loss: 41.0344\n",
      "Epoch [35/40], Test Loss: 42.1961\n",
      "Epoch [36/40], Training Loss: 40.8429\n",
      "Epoch [36/40], Test Loss: 41.9456\n",
      "Epoch [37/40], Training Loss: 40.9631\n",
      "Epoch [37/40], Test Loss: 42.0205\n",
      "Epoch [38/40], Training Loss: 40.9626\n",
      "Epoch [38/40], Test Loss: 42.0196\n",
      "Epoch [39/40], Training Loss: 40.7335\n",
      "Epoch [39/40], Test Loss: 41.5694\n",
      "Epoch [40/40], Training Loss: 40.8166\n",
      "Epoch [40/40], Test Loss: 42.0334\n"
     ]
    }
   ],
   "source": [
    "# Training loop\n",
    "\n",
    "train_losses = []\n",
    "test_losses = []\n",
    "\n",
    "\n",
    "num_epochs = 40\n",
    "for epoch in range(num_epochs):\n",
    "\n",
    "    \n",
    "    model.train()  # Set the model to training mode\n",
    "    total_loss = 0\n",
    "    for batch_idx, (data, targets) in enumerate(train_dataloader):\n",
    "        data, targets = data.to(device), targets.to(device)\n",
    "\n",
    "        # Forward pass\n",
    "        outputs = model(data)\n",
    "        loss = loss_function(outputs, targets)\n",
    "\n",
    "        # Backward and optimize\n",
    "        optimizer.zero_grad()\n",
    "        loss.backward()\n",
    "        \n",
    "        optimizer.step()\n",
    "\n",
    "        total_loss += loss.item()\n",
    "\n",
    "\n",
    "    train_loss = total_loss/len(train_dataloader)\n",
    "    train_losses.append(train_loss)\n",
    "    print(f'Epoch [{epoch+1}/{num_epochs}], Training Loss: {total_loss/len(train_dataloader):.4f}')\n",
    "\n",
    "    \n",
    "\n",
    "    # Evaluate the model on the test set\n",
    "    model.eval()  # Set the model to evaluation mode\n",
    "    total_test_loss = 0\n",
    "    with torch.no_grad():  # No need to track gradients for validation data\n",
    "        for batch_idx, (data, targets) in enumerate(test_dataloader):\n",
    "            data, targets = data.to(device), targets.to(device)\n",
    "            \n",
    "            # Forward pass\n",
    "            outputs = model(data)\n",
    "            loss = loss_function(outputs, targets)\n",
    "            \n",
    "            total_test_loss += loss.item()\n",
    "\n",
    "\n",
    "    test_loss = total_test_loss/len(test_dataloader)\n",
    "    test_losses.append(test_loss)\n",
    "    print(f'Epoch [{epoch+1}/{num_epochs}], Test Loss: {total_test_loss/len(test_dataloader):.4f}')"
   ]
  },
  {
   "cell_type": "markdown",
   "id": "6c53bbe3-c77f-40b9-bbcb-3ae246285d7f",
   "metadata": {},
   "source": [
    "## Graph of learning rate"
   ]
  },
  {
   "cell_type": "code",
   "execution_count": 11,
   "id": "a6e533c7-dda8-4dd1-8298-a6f994a09509",
   "metadata": {},
   "outputs": [
    {
     "data": {
      "image/png": "[encoded data removed]",
      "text/plain": [
       "<Figure size 640x480 with 1 Axes>"
      ]
     },
     "metadata": {},
     "output_type": "display_data"
    }
   ],
   "source": [
    "epochs = range(1, num_epochs + 1)\n",
    "plt.plot(epochs, train_losses, label='Training Loss')\n",
    "plt.plot(epochs, test_losses, label='Test Loss')\n",
    "plt.xlabel('Epochs')\n",
    "plt.ylabel('Loss')\n",
    "plt.title('Training and Test Loss over Epochs')\n",
    "plt.legend()\n",
    "plt.show()"
   ]
  },
  {
   "cell_type": "markdown",
   "id": "0ab2fe2e-8317-4ca2-be51-7d69cebcd3a4",
   "metadata": {},
   "source": [
    "## Thoughts\n",
    "* Overfitting\n",
    "\n",
    "In previous run:\n",
    "* Plateau learning curve almost immediately for both training and test set\n",
    "* Perhaps issue with graidents, as there is no learning"
   ]
  }
 ],
 "metadata": {
  "kernelspec": {
   "display_name": "Python 3 (ipykernel)",
   "language": "python",
   "name": "python3"
  },
  "language_info": {
   "codemirror_mode": {
    "name": "ipython",
    "version": 3
   },
   "file_extension": ".py",
   "mimetype": "text/x-python",
   "name": "python",
   "nbconvert_exporter": "python",
   "pygments_lexer": "ipython3",
   "version": "3.10.11"
  }
 },
 "nbformat": 4,
 "nbformat_minor": 5
}
